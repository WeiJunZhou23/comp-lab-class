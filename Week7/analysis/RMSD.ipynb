{
 "cells": [
  {
   "cell_type": "code",
   "execution_count": 1,
   "metadata": {},
   "outputs": [],
   "source": [
    "import pandas as pd\n",
    "from matplotlib import pyplot as plt\n",
    "import mdtraj as md\n",
    "import numpy as np"
   ]
  },
  {
   "cell_type": "code",
   "execution_count": 2,
   "metadata": {},
   "outputs": [],
   "source": [
    "crystal = md.load('1ubq.pdb')\n",
    "Alphafold_result = md.load(r'rcsb_pdb_1UBQ/ranked_0.pdb')\n",
    "Colabfold_result = md.load(r'ColabFold/1UBQ_result/1UBQ_7686d_unrelaxed_rank_1_model_4.pdb')"
   ]
  },
  {
   "cell_type": "markdown",
   "metadata": {},
   "source": [
    "#### RMSD:backbone"
   ]
  },
  {
   "cell_type": "code",
   "execution_count": 3,
   "metadata": {},
   "outputs": [
    {
     "data": {
      "text/plain": [
       "array([  0,   1,   2,   3,   8,   9,  10,  11,  17,  18,  19,  20,  25,\n",
       "        26,  27,  28,  36,  37,  38,  39,  43,  44,  45,  46,  52,  53,\n",
       "        54,  55,  59,  60,  61,  62,  67,  68,  69,  70,  74,  75,  76,\n",
       "        77,  78,  79,  80,  81,  87,  88,  89,  90,  94,  95,  96,  97,\n",
       "       102, 103, 104, 105, 109, 110, 111, 112, 117, 118, 119, 120, 126,\n",
       "       127, 128, 129, 133, 134, 135, 136, 142, 143, 144, 145, 149, 150,\n",
       "       151, 152, 155, 156, 157, 158, 163, 164, 165, 166, 170, 171, 172,\n",
       "       173, 178, 179, 180, 181, 187, 188, 189, 190, 195, 196, 197, 198,\n",
       "       202, 203, 204, 205, 211, 212, 213, 214, 216, 217, 218, 219, 225,\n",
       "       226, 227, 228, 233, 234, 235, 236, 242, 243, 244, 245, 250, 251,\n",
       "       252, 253, 259, 260, 261, 262, 268, 269, 270, 271, 272, 273, 274,\n",
       "       275, 280, 281, 282, 283, 287, 288, 289, 290, 294, 295, 296, 297,\n",
       "       302, 303, 304, 305, 311, 312, 313, 314, 320, 321, 322, 323, 331,\n",
       "       332, 333, 334, 339, 340, 341, 342, 347, 348, 349, 350, 358, 359,\n",
       "       360, 361, 363, 364, 365, 366, 367, 368, 369, 370, 376, 377, 378,\n",
       "       379, 385, 386, 387, 388, 393, 394, 395, 396, 402, 403, 404, 405,\n",
       "       410, 411, 412, 413, 414, 415, 416, 417, 425, 426, 427, 428, 432,\n",
       "       433, 434, 435, 440, 441, 442, 443, 446, 447, 448, 449, 454, 455,\n",
       "       456, 457, 466, 467, 468, 469, 474, 475, 476, 477, 482, 483, 484,\n",
       "       485, 491, 492, 493, 494, 500, 501, 502, 503, 509, 510, 511, 512,\n",
       "       515, 516, 517, 518, 522, 523, 524, 525, 530, 531, 532, 533, 540,\n",
       "       541, 542, 543, 548, 549, 550, 551, 555, 556, 557, 558, 563, 564,\n",
       "       565, 566, 574, 575, 576, 577, 582, 583, 584, 585, 593, 594, 595,\n",
       "       596, 597, 598, 599, 600])"
      ]
     },
     "execution_count": 3,
     "metadata": {},
     "output_type": "execute_result"
    }
   ],
   "source": [
    "crystal_backbone = crystal.top.select(\"backbone\")\n",
    "crystal_backbone "
   ]
  },
  {
   "cell_type": "code",
   "execution_count": 4,
   "metadata": {},
   "outputs": [
    {
     "data": {
      "text/plain": [
       "[1.2952638864517212]"
      ]
     },
     "execution_count": 4,
     "metadata": {},
     "output_type": "execute_result"
    }
   ],
   "source": [
    "Alpha_backbone = md.rmsd(Alphafold_result, crystal, 0, atom_indices=crystal_backbone)\n",
    "Alpha_backbone = Alpha_backbone.tolist()\n",
    "Alpha_backbone"
   ]
  },
  {
   "cell_type": "code",
   "execution_count": 5,
   "metadata": {},
   "outputs": [
    {
     "data": {
      "text/plain": [
       "[0.16840089857578278]"
      ]
     },
     "execution_count": 5,
     "metadata": {},
     "output_type": "execute_result"
    }
   ],
   "source": [
    "Colab_backbone = md.rmsd(Colabfold_result, crystal, 0, atom_indices=crystal_backbone)\n",
    "Colab_backbone = Colab_backbone.tolist()\n",
    "Colab_backbone"
   ]
  },
  {
   "cell_type": "markdown",
   "metadata": {},
   "source": [
    "#### RMSD:sidechain"
   ]
  },
  {
   "cell_type": "code",
   "execution_count": 6,
   "metadata": {},
   "outputs": [
    {
     "data": {
      "text/plain": [
       "array([  4,   5,   6,   7,  12,  13,  14,  15,  16,  21,  22,  23,  24,\n",
       "        29,  30,  31,  32,  33,  34,  35,  40,  41,  42,  47,  48,  49,\n",
       "        50,  51,  56,  57,  58,  63,  64,  65,  66,  71,  72,  73,  82,\n",
       "        83,  84,  85,  86,  91,  92,  93,  98,  99, 100, 101, 106, 107,\n",
       "       108, 113, 114, 115, 116, 121, 122, 123, 124, 125, 130, 131, 132,\n",
       "       137, 138, 139, 140, 141, 146, 147, 148, 153, 154, 159, 160, 161,\n",
       "       162, 167, 168, 169, 174, 175, 176, 177, 182, 183, 184, 185, 186,\n",
       "       191, 192, 193, 194, 199, 200, 201, 206, 207, 208, 209, 210, 215,\n",
       "       220, 221, 222, 223, 224, 229, 230, 231, 232, 237, 238, 239, 240,\n",
       "       241, 246, 247, 248, 249, 254, 255, 256, 257, 258, 263, 264, 265,\n",
       "       266, 267, 276, 277, 278, 279, 284, 285, 286, 291, 292, 293, 298,\n",
       "       299, 300, 301, 306, 307, 308, 309, 310, 315, 316, 317, 318, 319,\n",
       "       324, 325, 326, 327, 328, 329, 330, 335, 336, 337, 338, 343, 344,\n",
       "       345, 346, 351, 352, 353, 354, 355, 356, 357, 362, 371, 372, 373,\n",
       "       374, 375, 380, 381, 382, 383, 384, 389, 390, 391, 392, 397, 398,\n",
       "       399, 400, 401, 406, 407, 408, 409, 418, 419, 420, 421, 422, 423,\n",
       "       424, 429, 430, 431, 436, 437, 438, 439, 444, 445, 450, 451, 452,\n",
       "       453, 458, 459, 460, 461, 462, 463, 464, 465, 470, 471, 472, 473,\n",
       "       478, 479, 480, 481, 486, 487, 488, 489, 490, 495, 496, 497, 498,\n",
       "       499, 504, 505, 506, 507, 508, 513, 514, 519, 520, 521, 526, 527,\n",
       "       528, 529, 534, 535, 536, 537, 538, 539, 544, 545, 546, 547, 552,\n",
       "       553, 554, 559, 560, 561, 562, 567, 568, 569, 570, 571, 572, 573,\n",
       "       578, 579, 580, 581, 586, 587, 588, 589, 590, 591, 592, 601])"
      ]
     },
     "execution_count": 6,
     "metadata": {},
     "output_type": "execute_result"
    }
   ],
   "source": [
    "crystal_sidechain = crystal.top.select(\"sidechain\")\n",
    "crystal_sidechain"
   ]
  },
  {
   "cell_type": "code",
   "execution_count": 7,
   "metadata": {},
   "outputs": [
    {
     "data": {
      "text/plain": [
       "array([  3,   5,   6,   7,  11,  13,  14,  15,  16,  20,  22,  23,  24,\n",
       "        28,  30,  31,  32,  33,  34,  35,  39,  41,  42,  46,  48,  49,\n",
       "        50,  51,  55,  57,  58,  62,  64,  65,  66,  70,  72,  73,  81,\n",
       "        83,  84,  85,  86,  90,  92,  93,  97,  99, 100, 101, 105, 107,\n",
       "       108, 112, 114, 115, 116, 120, 122, 123, 124, 125, 129, 131, 132,\n",
       "       136, 138, 139, 140, 141, 145, 147, 148, 152, 154, 158, 160, 161,\n",
       "       162, 166, 168, 169, 173, 175, 176, 177, 181, 183, 184, 185, 186,\n",
       "       190, 192, 193, 194, 198, 200, 201, 205, 207, 208, 209, 210, 214,\n",
       "       219, 221, 222, 223, 224, 228, 230, 231, 232, 236, 238, 239, 240,\n",
       "       241, 245, 247, 248, 249, 253, 255, 256, 257, 258, 262, 264, 265,\n",
       "       266, 267, 275, 277, 278, 279, 283, 285, 286, 290, 292, 293, 297,\n",
       "       299, 300, 301, 305, 307, 308, 309, 310, 314, 316, 317, 318, 319,\n",
       "       323, 325, 326, 327, 328, 329, 330, 334, 336, 337, 338, 342, 344,\n",
       "       345, 346, 350, 352, 353, 354, 355, 356, 357, 361, 370, 372, 373,\n",
       "       374, 375, 379, 381, 382, 383, 384, 388, 390, 391, 392, 396, 398,\n",
       "       399, 400, 401, 405, 407, 408, 409, 417, 419, 420, 421, 422, 423,\n",
       "       424, 428, 430, 431, 435, 437, 438, 439, 443, 445, 449, 451, 452,\n",
       "       453, 457, 459, 460, 461, 462, 463, 464, 465, 469, 471, 472, 473,\n",
       "       477, 479, 480, 481, 485, 487, 488, 489, 490, 494, 496, 497, 498,\n",
       "       499, 503, 505, 506, 507, 508, 512, 514, 518, 520, 521, 525, 527,\n",
       "       528, 529, 533, 535, 536, 537, 538, 539, 543, 545, 546, 547, 551,\n",
       "       553, 554, 558, 560, 561, 562, 566, 568, 569, 570, 571, 572, 573,\n",
       "       577, 579, 580, 581, 585, 587, 588, 589, 590, 591, 592])"
      ]
     },
     "execution_count": 7,
     "metadata": {},
     "output_type": "execute_result"
    }
   ],
   "source": [
    "Colab_sidechain_index = Colabfold_result.top.select(\"sidechain\")\n",
    "Colab_sidechain_index"
   ]
  },
  {
   "cell_type": "code",
   "execution_count": 8,
   "metadata": {},
   "outputs": [
    {
     "data": {
      "text/plain": [
       "[1.2992324829101562]"
      ]
     },
     "execution_count": 8,
     "metadata": {},
     "output_type": "execute_result"
    }
   ],
   "source": [
    "Alpha_sidechain = md.rmsd(Alphafold_result, crystal, 0, atom_indices=crystal_sidechain)\n",
    "Alpha_sidechain = Alpha_sidechain.tolist()\n",
    "Alpha_sidechain"
   ]
  },
  {
   "cell_type": "code",
   "execution_count": 9,
   "metadata": {},
   "outputs": [
    {
     "data": {
      "text/plain": [
       "[0.24503248929977417]"
      ]
     },
     "execution_count": 9,
     "metadata": {},
     "output_type": "execute_result"
    }
   ],
   "source": [
    "Colab_sidechain = md.rmsd(Colabfold_result, crystal, 0, atom_indices=Colab_sidechain_index)\n",
    "Colab_sidechain = Colab_sidechain.tolist()\n",
    "Colab_sidechain"
   ]
  },
  {
   "cell_type": "markdown",
   "metadata": {},
   "source": [
    "#### RMSD:alpha-carbons"
   ]
  },
  {
   "cell_type": "code",
   "execution_count": 10,
   "metadata": {},
   "outputs": [
    {
     "data": {
      "text/plain": [
       "array([  1,   9,  18,  26,  37,  44,  53,  60,  68,  75,  79,  88,  95,\n",
       "       103, 110, 118, 127, 134, 143, 150, 156, 164, 171, 179, 188, 196,\n",
       "       203, 212, 217, 226, 234, 243, 251, 260, 269, 273, 281, 288, 295,\n",
       "       303, 312, 321, 332, 340, 348, 359, 364, 368, 377, 386, 394, 403,\n",
       "       411, 415, 426, 433, 441, 447, 455, 467, 475, 483, 492, 501, 510,\n",
       "       516, 523, 531, 541, 549, 556, 564, 575, 583, 594, 598])"
      ]
     },
     "execution_count": 10,
     "metadata": {},
     "output_type": "execute_result"
    }
   ],
   "source": [
    "crystal_alphaC = crystal.top.select(\"name CA\")\n",
    "crystal_alphaC"
   ]
  },
  {
   "cell_type": "code",
   "execution_count": 11,
   "metadata": {},
   "outputs": [
    {
     "data": {
      "text/plain": [
       "[1.3134127855300903]"
      ]
     },
     "execution_count": 11,
     "metadata": {},
     "output_type": "execute_result"
    }
   ],
   "source": [
    "Alpha_alphaC = md.rmsd(Alphafold_result, crystal, 0, atom_indices=crystal_alphaC)\n",
    "Alpha_alphaC = Alpha_alphaC.tolist()\n",
    "Alpha_alphaC"
   ]
  },
  {
   "cell_type": "code",
   "execution_count": 12,
   "metadata": {},
   "outputs": [
    {
     "data": {
      "text/plain": [
       "[0.08447302877902985]"
      ]
     },
     "execution_count": 12,
     "metadata": {},
     "output_type": "execute_result"
    }
   ],
   "source": [
    "Colab_alphaC = md.rmsd(Colabfold_result, crystal, 0, atom_indices=crystal_alphaC)\n",
    "Colab_alphaC = Colab_alphaC.tolist()\n",
    "Colab_alphaC"
   ]
  },
  {
   "cell_type": "markdown",
   "metadata": {},
   "source": [
    "#### Bar plot"
   ]
  },
  {
   "cell_type": "code",
   "execution_count": 13,
   "metadata": {},
   "outputs": [
    {
     "data": {
      "image/png": "[encoded data removed]",
      "text/plain": [
       "<Figure size 640x480 with 1 Axes>"
      ]
     },
     "metadata": {},
     "output_type": "display_data"
    }
   ],
   "source": [
    "plt.figure()\n",
    "x_axis_name = ['backbone', 'sidechain', 'alpha-carbon']\n",
    "x_axis = np.arange(len(x_axis_name))\n",
    "y_alpha = Alpha_backbone + Alpha_sidechain + Alpha_alphaC\n",
    "y_alpha = list(np.around(np.array(y_alpha), 4))\n",
    "plt.bar(x_axis - 0.1, y_alpha, width = 0.2, label = 'AlphaFold')\n",
    "\n",
    "for x,y in zip(x_axis - 0.1, y_alpha):\n",
    "    label = \"{}\".format(y)\n",
    "    \n",
    "    plt.annotate(label,\n",
    "                 (x,y),\n",
    "                 textcoords=\"offset points\",\n",
    "                 xytext=(0,5),\n",
    "                 ha='center',\n",
    "                 fontsize=7)\n",
    "\n",
    "y_colab = Colab_backbone + Colab_sidechain + Colab_alphaC\n",
    "y_colab = list(np.around(np.array(y_colab), 4))\n",
    "plt.bar(x_axis + 0.1, y_colab, width = 0.2, label = 'ColabFold')\n",
    "\n",
    "for x,y in zip(x_axis + 0.1, y_colab):\n",
    "    label = \"{}\".format(y)\n",
    "    \n",
    "    plt.annotate(label,\n",
    "                 (x,y),\n",
    "                 textcoords=\"offset points\",\n",
    "                 xytext=(0,5),\n",
    "                 ha='center',\n",
    "                 fontsize=7)\n",
    "\n",
    "plt.xticks(x_axis, x_axis_name)\n",
    "plt.ylim(0, 2)\n",
    "plt.legend()\n",
    "plt.title('RMSD (AlphaFold and ColabFold) vs 1ubq crystal')\n",
    "plt.savefig('RMSD.png')\n",
    "plt.show()"
   ]
  },
  {
   "cell_type": "code",
   "execution_count": null,
   "metadata": {},
   "outputs": [],
   "source": []
  }
 ],
 "metadata": {
  "kernelspec": {
   "display_name": "lab_env",
   "language": "python",
   "name": "lab_env"
  },
  "language_info": {
   "codemirror_mode": {
    "name": "ipython",
    "version": 3
   },
   "file_extension": ".py",
   "mimetype": "text/x-python",
   "name": "python",
   "nbconvert_exporter": "python",
   "pygments_lexer": "ipython3",
   "version": "3.9.12"
  }
 },
 "nbformat": 4,
 "nbformat_minor": 4
}
